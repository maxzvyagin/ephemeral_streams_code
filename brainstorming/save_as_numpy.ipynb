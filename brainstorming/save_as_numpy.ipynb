{
 "cells": [
  {
   "cell_type": "code",
   "execution_count": 1,
   "metadata": {},
   "outputs": [],
   "source": [
    "import rasterio\n",
    "import numpy as np"
   ]
  },
  {
   "cell_type": "code",
   "execution_count": 2,
   "metadata": {},
   "outputs": [],
   "source": [
    "from IPython.core.interactiveshell import InteractiveShell\n",
    "InteractiveShell.ast_node_interactivity = \"all\""
   ]
  },
  {
   "cell_type": "code",
   "execution_count": 3,
   "metadata": {},
   "outputs": [],
   "source": [
    "twelve = rasterio.open(\"/Users/mzvyagin/Documents/GISProject/nucleus_data/Ephemeral_Channels/Imagery/vhr_2012_refl.img\")"
   ]
  },
  {
   "cell_type": "code",
   "execution_count": 3,
   "metadata": {},
   "outputs": [],
   "source": [
    "#twelve_red = twelve.read(1)"
   ]
  },
  {
   "cell_type": "code",
   "execution_count": 12,
   "metadata": {},
   "outputs": [
    {
     "ename": "ValueError",
     "evalue": "need at least one array to stack",
     "output_type": "error",
     "traceback": [
      "\u001b[0;31m---------------------------------------------------------------------------\u001b[0m",
      "\u001b[0;31mValueError\u001b[0m                                Traceback (most recent call last)",
      "\u001b[0;32m<timed exec>\u001b[0m in \u001b[0;36m<module>\u001b[0;34m\u001b[0m\n",
      "\u001b[0;32m<__array_function__ internals>\u001b[0m in \u001b[0;36mstack\u001b[0;34m(*args, **kwargs)\u001b[0m\n",
      "\u001b[0;32m~/.pyenv/versions/3.8.5/lib/python3.8/site-packages/numpy/core/shape_base.py\u001b[0m in \u001b[0;36mstack\u001b[0;34m(arrays, axis, out)\u001b[0m\n\u001b[1;32m    421\u001b[0m     \u001b[0marrays\u001b[0m \u001b[0;34m=\u001b[0m \u001b[0;34m[\u001b[0m\u001b[0masanyarray\u001b[0m\u001b[0;34m(\u001b[0m\u001b[0marr\u001b[0m\u001b[0;34m)\u001b[0m \u001b[0;32mfor\u001b[0m \u001b[0marr\u001b[0m \u001b[0;32min\u001b[0m \u001b[0marrays\u001b[0m\u001b[0;34m]\u001b[0m\u001b[0;34m\u001b[0m\u001b[0;34m\u001b[0m\u001b[0m\n\u001b[1;32m    422\u001b[0m     \u001b[0;32mif\u001b[0m \u001b[0;32mnot\u001b[0m \u001b[0marrays\u001b[0m\u001b[0;34m:\u001b[0m\u001b[0;34m\u001b[0m\u001b[0;34m\u001b[0m\u001b[0m\n\u001b[0;32m--> 423\u001b[0;31m         \u001b[0;32mraise\u001b[0m \u001b[0mValueError\u001b[0m\u001b[0;34m(\u001b[0m\u001b[0;34m'need at least one array to stack'\u001b[0m\u001b[0;34m)\u001b[0m\u001b[0;34m\u001b[0m\u001b[0;34m\u001b[0m\u001b[0m\n\u001b[0m\u001b[1;32m    424\u001b[0m \u001b[0;34m\u001b[0m\u001b[0m\n\u001b[1;32m    425\u001b[0m     \u001b[0mshapes\u001b[0m \u001b[0;34m=\u001b[0m \u001b[0;34m{\u001b[0m\u001b[0marr\u001b[0m\u001b[0;34m.\u001b[0m\u001b[0mshape\u001b[0m \u001b[0;32mfor\u001b[0m \u001b[0marr\u001b[0m \u001b[0;32min\u001b[0m \u001b[0marrays\u001b[0m\u001b[0;34m}\u001b[0m\u001b[0;34m\u001b[0m\u001b[0;34m\u001b[0m\u001b[0m\n",
      "\u001b[0;31mValueError\u001b[0m: need at least one array to stack"
     ]
    }
   ],
   "source": [
    "%%time\n",
    "full_channels=np.array([])\n",
    "for x in range(4):\n",
    "    next_channel = twelve.read(x+1)\n",
    "    np.stack(full_channels, next_channel)"
   ]
  },
  {
   "cell_type": "code",
   "execution_count": 4,
   "metadata": {},
   "outputs": [
    {
     "ename": "KeyboardInterrupt",
     "evalue": "",
     "output_type": "error",
     "traceback": [
      "\u001b[0;31m---------------------------------------------------------------------------\u001b[0m",
      "\u001b[0;31mKeyboardInterrupt\u001b[0m                         Traceback (most recent call last)",
      "\u001b[0;32m<ipython-input-4-08ae31557dab>\u001b[0m in \u001b[0;36m<module>\u001b[0;34m\u001b[0m\n\u001b[0;32m----> 1\u001b[0;31m \u001b[0mget_ipython\u001b[0m\u001b[0;34m(\u001b[0m\u001b[0;34m)\u001b[0m\u001b[0;34m.\u001b[0m\u001b[0mrun_cell_magic\u001b[0m\u001b[0;34m(\u001b[0m\u001b[0;34m'timeit'\u001b[0m\u001b[0;34m,\u001b[0m \u001b[0;34m''\u001b[0m\u001b[0;34m,\u001b[0m \u001b[0;34m'red = twelve.read(1)\\n'\u001b[0m\u001b[0;34m)\u001b[0m\u001b[0;34m\u001b[0m\u001b[0;34m\u001b[0m\u001b[0m\n\u001b[0m",
      "\u001b[0;32m~/.pyenv/versions/3.8.5/lib/python3.8/site-packages/IPython/core/interactiveshell.py\u001b[0m in \u001b[0;36mrun_cell_magic\u001b[0;34m(self, magic_name, line, cell)\u001b[0m\n\u001b[1;32m   2379\u001b[0m             \u001b[0;32mwith\u001b[0m \u001b[0mself\u001b[0m\u001b[0;34m.\u001b[0m\u001b[0mbuiltin_trap\u001b[0m\u001b[0;34m:\u001b[0m\u001b[0;34m\u001b[0m\u001b[0;34m\u001b[0m\u001b[0m\n\u001b[1;32m   2380\u001b[0m                 \u001b[0margs\u001b[0m \u001b[0;34m=\u001b[0m \u001b[0;34m(\u001b[0m\u001b[0mmagic_arg_s\u001b[0m\u001b[0;34m,\u001b[0m \u001b[0mcell\u001b[0m\u001b[0;34m)\u001b[0m\u001b[0;34m\u001b[0m\u001b[0;34m\u001b[0m\u001b[0m\n\u001b[0;32m-> 2381\u001b[0;31m                 \u001b[0mresult\u001b[0m \u001b[0;34m=\u001b[0m \u001b[0mfn\u001b[0m\u001b[0;34m(\u001b[0m\u001b[0;34m*\u001b[0m\u001b[0margs\u001b[0m\u001b[0;34m,\u001b[0m \u001b[0;34m**\u001b[0m\u001b[0mkwargs\u001b[0m\u001b[0;34m)\u001b[0m\u001b[0;34m\u001b[0m\u001b[0;34m\u001b[0m\u001b[0m\n\u001b[0m\u001b[1;32m   2382\u001b[0m             \u001b[0;32mreturn\u001b[0m \u001b[0mresult\u001b[0m\u001b[0;34m\u001b[0m\u001b[0;34m\u001b[0m\u001b[0m\n\u001b[1;32m   2383\u001b[0m \u001b[0;34m\u001b[0m\u001b[0m\n",
      "\u001b[0;32m<decorator-gen-60>\u001b[0m in \u001b[0;36mtimeit\u001b[0;34m(self, line, cell, local_ns)\u001b[0m\n",
      "\u001b[0;32m~/.pyenv/versions/3.8.5/lib/python3.8/site-packages/IPython/core/magic.py\u001b[0m in \u001b[0;36m<lambda>\u001b[0;34m(f, *a, **k)\u001b[0m\n\u001b[1;32m    185\u001b[0m     \u001b[0;31m# but it's overkill for just that one bit of state.\u001b[0m\u001b[0;34m\u001b[0m\u001b[0;34m\u001b[0m\u001b[0;34m\u001b[0m\u001b[0m\n\u001b[1;32m    186\u001b[0m     \u001b[0;32mdef\u001b[0m \u001b[0mmagic_deco\u001b[0m\u001b[0;34m(\u001b[0m\u001b[0marg\u001b[0m\u001b[0;34m)\u001b[0m\u001b[0;34m:\u001b[0m\u001b[0;34m\u001b[0m\u001b[0;34m\u001b[0m\u001b[0m\n\u001b[0;32m--> 187\u001b[0;31m         \u001b[0mcall\u001b[0m \u001b[0;34m=\u001b[0m \u001b[0;32mlambda\u001b[0m \u001b[0mf\u001b[0m\u001b[0;34m,\u001b[0m \u001b[0;34m*\u001b[0m\u001b[0ma\u001b[0m\u001b[0;34m,\u001b[0m \u001b[0;34m**\u001b[0m\u001b[0mk\u001b[0m\u001b[0;34m:\u001b[0m \u001b[0mf\u001b[0m\u001b[0;34m(\u001b[0m\u001b[0;34m*\u001b[0m\u001b[0ma\u001b[0m\u001b[0;34m,\u001b[0m \u001b[0;34m**\u001b[0m\u001b[0mk\u001b[0m\u001b[0;34m)\u001b[0m\u001b[0;34m\u001b[0m\u001b[0;34m\u001b[0m\u001b[0m\n\u001b[0m\u001b[1;32m    188\u001b[0m \u001b[0;34m\u001b[0m\u001b[0m\n\u001b[1;32m    189\u001b[0m         \u001b[0;32mif\u001b[0m \u001b[0mcallable\u001b[0m\u001b[0;34m(\u001b[0m\u001b[0marg\u001b[0m\u001b[0;34m)\u001b[0m\u001b[0;34m:\u001b[0m\u001b[0;34m\u001b[0m\u001b[0;34m\u001b[0m\u001b[0m\n",
      "\u001b[0;32m~/.pyenv/versions/3.8.5/lib/python3.8/site-packages/IPython/core/magics/execution.py\u001b[0m in \u001b[0;36mtimeit\u001b[0;34m(self, line, cell, local_ns)\u001b[0m\n\u001b[1;32m   1171\u001b[0m                     \u001b[0;32mbreak\u001b[0m\u001b[0;34m\u001b[0m\u001b[0;34m\u001b[0m\u001b[0m\n\u001b[1;32m   1172\u001b[0m \u001b[0;34m\u001b[0m\u001b[0m\n\u001b[0;32m-> 1173\u001b[0;31m         \u001b[0mall_runs\u001b[0m \u001b[0;34m=\u001b[0m \u001b[0mtimer\u001b[0m\u001b[0;34m.\u001b[0m\u001b[0mrepeat\u001b[0m\u001b[0;34m(\u001b[0m\u001b[0mrepeat\u001b[0m\u001b[0;34m,\u001b[0m \u001b[0mnumber\u001b[0m\u001b[0;34m)\u001b[0m\u001b[0;34m\u001b[0m\u001b[0;34m\u001b[0m\u001b[0m\n\u001b[0m\u001b[1;32m   1174\u001b[0m         \u001b[0mbest\u001b[0m \u001b[0;34m=\u001b[0m \u001b[0mmin\u001b[0m\u001b[0;34m(\u001b[0m\u001b[0mall_runs\u001b[0m\u001b[0;34m)\u001b[0m \u001b[0;34m/\u001b[0m \u001b[0mnumber\u001b[0m\u001b[0;34m\u001b[0m\u001b[0;34m\u001b[0m\u001b[0m\n\u001b[1;32m   1175\u001b[0m         \u001b[0mworst\u001b[0m \u001b[0;34m=\u001b[0m \u001b[0mmax\u001b[0m\u001b[0;34m(\u001b[0m\u001b[0mall_runs\u001b[0m\u001b[0;34m)\u001b[0m \u001b[0;34m/\u001b[0m \u001b[0mnumber\u001b[0m\u001b[0;34m\u001b[0m\u001b[0;34m\u001b[0m\u001b[0m\n",
      "\u001b[0;32m~/.pyenv/versions/3.8.5/lib/python3.8/timeit.py\u001b[0m in \u001b[0;36mrepeat\u001b[0;34m(self, repeat, number)\u001b[0m\n\u001b[1;32m    203\u001b[0m         \u001b[0mr\u001b[0m \u001b[0;34m=\u001b[0m \u001b[0;34m[\u001b[0m\u001b[0;34m]\u001b[0m\u001b[0;34m\u001b[0m\u001b[0;34m\u001b[0m\u001b[0m\n\u001b[1;32m    204\u001b[0m         \u001b[0;32mfor\u001b[0m \u001b[0mi\u001b[0m \u001b[0;32min\u001b[0m \u001b[0mrange\u001b[0m\u001b[0;34m(\u001b[0m\u001b[0mrepeat\u001b[0m\u001b[0;34m)\u001b[0m\u001b[0;34m:\u001b[0m\u001b[0;34m\u001b[0m\u001b[0;34m\u001b[0m\u001b[0m\n\u001b[0;32m--> 205\u001b[0;31m             \u001b[0mt\u001b[0m \u001b[0;34m=\u001b[0m \u001b[0mself\u001b[0m\u001b[0;34m.\u001b[0m\u001b[0mtimeit\u001b[0m\u001b[0;34m(\u001b[0m\u001b[0mnumber\u001b[0m\u001b[0;34m)\u001b[0m\u001b[0;34m\u001b[0m\u001b[0;34m\u001b[0m\u001b[0m\n\u001b[0m\u001b[1;32m    206\u001b[0m             \u001b[0mr\u001b[0m\u001b[0;34m.\u001b[0m\u001b[0mappend\u001b[0m\u001b[0;34m(\u001b[0m\u001b[0mt\u001b[0m\u001b[0;34m)\u001b[0m\u001b[0;34m\u001b[0m\u001b[0;34m\u001b[0m\u001b[0m\n\u001b[1;32m    207\u001b[0m         \u001b[0;32mreturn\u001b[0m \u001b[0mr\u001b[0m\u001b[0;34m\u001b[0m\u001b[0;34m\u001b[0m\u001b[0m\n",
      "\u001b[0;32m~/.pyenv/versions/3.8.5/lib/python3.8/site-packages/IPython/core/magics/execution.py\u001b[0m in \u001b[0;36mtimeit\u001b[0;34m(self, number)\u001b[0m\n\u001b[1;32m    167\u001b[0m         \u001b[0mgc\u001b[0m\u001b[0;34m.\u001b[0m\u001b[0mdisable\u001b[0m\u001b[0;34m(\u001b[0m\u001b[0;34m)\u001b[0m\u001b[0;34m\u001b[0m\u001b[0;34m\u001b[0m\u001b[0m\n\u001b[1;32m    168\u001b[0m         \u001b[0;32mtry\u001b[0m\u001b[0;34m:\u001b[0m\u001b[0;34m\u001b[0m\u001b[0;34m\u001b[0m\u001b[0m\n\u001b[0;32m--> 169\u001b[0;31m             \u001b[0mtiming\u001b[0m \u001b[0;34m=\u001b[0m \u001b[0mself\u001b[0m\u001b[0;34m.\u001b[0m\u001b[0minner\u001b[0m\u001b[0;34m(\u001b[0m\u001b[0mit\u001b[0m\u001b[0;34m,\u001b[0m \u001b[0mself\u001b[0m\u001b[0;34m.\u001b[0m\u001b[0mtimer\u001b[0m\u001b[0;34m)\u001b[0m\u001b[0;34m\u001b[0m\u001b[0;34m\u001b[0m\u001b[0m\n\u001b[0m\u001b[1;32m    170\u001b[0m         \u001b[0;32mfinally\u001b[0m\u001b[0;34m:\u001b[0m\u001b[0;34m\u001b[0m\u001b[0;34m\u001b[0m\u001b[0m\n\u001b[1;32m    171\u001b[0m             \u001b[0;32mif\u001b[0m \u001b[0mgcold\u001b[0m\u001b[0;34m:\u001b[0m\u001b[0;34m\u001b[0m\u001b[0;34m\u001b[0m\u001b[0m\n",
      "\u001b[0;32m<magic-timeit>\u001b[0m in \u001b[0;36minner\u001b[0;34m(_it, _timer)\u001b[0m\n",
      "\u001b[0;31mKeyboardInterrupt\u001b[0m: "
     ]
    }
   ],
   "source": [
    "%%timeit\n",
    "red = twelve.read(1)"
   ]
  },
  {
   "cell_type": "code",
   "execution_count": null,
   "metadata": {},
   "outputs": [],
   "source": [
    "%%timeit\n",
    "blue = twelve.read(2)"
   ]
  },
  {
   "cell_type": "code",
   "execution_count": null,
   "metadata": {},
   "outputs": [],
   "source": [
    "%%timeit\n",
    "green = twelve.read(3)"
   ]
  },
  {
   "cell_type": "code",
   "execution_count": null,
   "metadata": {},
   "outputs": [],
   "source": [
    "%%timeit \n",
    "ir = twelve.read(4)"
   ]
  },
  {
   "cell_type": "code",
   "execution_count": 13,
   "metadata": {},
   "outputs": [],
   "source": [
    "def channels_to_numpy(filename):\n",
    "    with rasterio.open(filename) as src:\n",
    "        red = src.read(1)\n",
    "        blue = src.read(2)\n",
    "        green = src.read(3)\n",
    "        ir = src.read(4)\n",
    "        return {\"red\":red, \"blue\":blue, \"green\":green, \"ir\":ir}\n",
    "    # return a dict"
   ]
  },
  {
   "cell_type": "code",
   "execution_count": null,
   "metadata": {},
   "outputs": [],
   "source": [
    "%%time\n",
    "res = channels_to_numpy(\"/Users/mzvyagin/Documents/GISProject/nucleus_data/Ephemeral_Channels/Imagery/vhr_2012_refl.img\")"
   ]
  },
  {
   "cell_type": "code",
   "execution_count": 5,
   "metadata": {},
   "outputs": [
    {
     "name": "stdout",
     "output_type": "stream",
     "text": [
      "CPU times: user 19 s, sys: 54.9 s, total: 1min 13s\n",
      "Wall time: 2min 11s\n"
     ]
    }
   ],
   "source": [
    "%%time\n",
    "red = twelve.read(1)"
   ]
  },
  {
   "cell_type": "code",
   "execution_count": 11,
   "metadata": {},
   "outputs": [
    {
     "data": {
      "text/plain": [
       "(0,)"
      ]
     },
     "execution_count": 11,
     "metadata": {},
     "output_type": "execute_result"
    }
   ],
   "source": [
    "full_channels.shape"
   ]
  },
  {
   "cell_type": "code",
   "execution_count": 6,
   "metadata": {},
   "outputs": [
    {
     "data": {
      "text/plain": [
       "95067"
      ]
     },
     "execution_count": 6,
     "metadata": {},
     "output_type": "execute_result"
    }
   ],
   "source": [
    "len(red)"
   ]
  },
  {
   "cell_type": "code",
   "execution_count": 7,
   "metadata": {},
   "outputs": [
    {
     "name": "stdout",
     "output_type": "stream",
     "text": [
      "CPU times: user 19.8 s, sys: 1min 1s, total: 1min 21s\n",
      "Wall time: 2min 29s\n"
     ]
    }
   ],
   "source": [
    "%%time\n",
    "blue = twelve.read(2)"
   ]
  },
  {
   "cell_type": "code",
   "execution_count": null,
   "metadata": {},
   "outputs": [
    {
     "name": "stdout",
     "output_type": "stream",
     "text": [
      "4\n",
      "143533\n",
      "95067\n",
      "1\n",
      "could not broadcast input array from shape (4,512,173) into shape (4,173,173)\n",
      "2\n",
      "could not broadcast input array from shape (4,512,173) into shape (4,173,173)\n",
      "3\n",
      "could not broadcast input array from shape (4,512,173) into shape (4,173,173)\n",
      "4\n",
      "could not broadcast input array from shape (4,512,173) into shape (4,173,173)\n",
      "5\n",
      "could not broadcast input array from shape (4,512,173) into shape (4,173,173)\n",
      "6\n",
      "could not broadcast input array from shape (4,512,173) into shape (4,173,173)\n",
      "7\n",
      "could not broadcast input array from shape (4,512,173) into shape (4,173,173)\n",
      "8\n",
      "could not broadcast input array from shape (4,512,173) into shape (4,173,173)\n",
      "9\n",
      "could not broadcast input array from shape (4,512,173) into shape (4,173,173)\n",
      "10\n",
      "could not broadcast input array from shape (4,512,173) into shape (4,173,173)\n",
      "11\n",
      "could not broadcast input array from shape (4,512,173) into shape (4,173,173)\n",
      "12\n",
      "could not broadcast input array from shape (4,512,173) into shape (4,173,173)\n",
      "13\n",
      "could not broadcast input array from shape (4,512,173) into shape (4,173,173)\n",
      "14\n",
      "could not broadcast input array from shape (4,512,173) into shape (4,173,173)\n",
      "15\n",
      "could not broadcast input array from shape (4,512,173) into shape (4,173,173)\n",
      "16\n",
      "could not broadcast input array from shape (4,512,173) into shape (4,173,173)\n",
      "17\n",
      "could not broadcast input array from shape (4,512,173) into shape (4,173,173)\n",
      "18\n",
      "could not broadcast input array from shape (4,512,173) into shape (4,173,173)\n",
      "19\n",
      "could not broadcast input array from shape (4,512,173) into shape (4,173,173)\n",
      "20\n",
      "could not broadcast input array from shape (4,512,173) into shape (4,173,173)\n",
      "21\n",
      "could not broadcast input array from shape (4,512,173) into shape (4,173,173)\n",
      "22\n",
      "could not broadcast input array from shape (4,512,173) into shape (4,173,173)\n",
      "23\n",
      "could not broadcast input array from shape (4,512,173) into shape (4,173,173)\n",
      "24\n",
      "could not broadcast input array from shape (4,512,173) into shape (4,173,173)\n",
      "25\n",
      "could not broadcast input array from shape (4,512,173) into shape (4,173,173)\n",
      "26\n",
      "could not broadcast input array from shape (4,512,173) into shape (4,173,173)\n",
      "27\n",
      "could not broadcast input array from shape (4,512,173) into shape (4,173,173)\n",
      "28\n",
      "could not broadcast input array from shape (4,512,173) into shape (4,173,173)\n",
      "29\n",
      "could not broadcast input array from shape (4,512,173) into shape (4,173,173)\n",
      "30\n",
      "could not broadcast input array from shape (4,512,173) into shape (4,173,173)\n",
      "31\n",
      "could not broadcast input array from shape (4,512,173) into shape (4,173,173)\n",
      "32\n",
      "could not broadcast input array from shape (4,512,173) into shape (4,173,173)\n",
      "33\n",
      "could not broadcast input array from shape (4,512,173) into shape (4,173,173)\n",
      "34\n",
      "could not broadcast input array from shape (4,512,173) into shape (4,173,173)\n",
      "35\n",
      "could not broadcast input array from shape (4,512,173) into shape (4,173,173)\n",
      "36\n",
      "could not broadcast input array from shape (4,512,173) into shape (4,173,173)\n",
      "37\n",
      "could not broadcast input array from shape (4,512,173) into shape (4,173,173)\n",
      "38\n",
      "could not broadcast input array from shape (4,512,173) into shape (4,173,173)\n",
      "39\n",
      "could not broadcast input array from shape (4,512,173) into shape (4,173,173)\n",
      "40\n",
      "could not broadcast input array from shape (4,512,173) into shape (4,173,173)\n",
      "41\n",
      "could not broadcast input array from shape (4,512,173) into shape (4,173,173)\n",
      "42\n",
      "could not broadcast input array from shape (4,512,173) into shape (4,173,173)\n",
      "43\n",
      "could not broadcast input array from shape (4,512,173) into shape (4,173,173)\n",
      "44\n",
      "could not broadcast input array from shape (4,512,173) into shape (4,173,173)\n",
      "45\n",
      "could not broadcast input array from shape (4,512,173) into shape (4,173,173)\n",
      "46\n",
      "could not broadcast input array from shape (4,512,173) into shape (4,173,173)\n",
      "47\n",
      "could not broadcast input array from shape (4,512,173) into shape (4,173,173)\n",
      "48\n",
      "could not broadcast input array from shape (4,512,173) into shape (4,173,173)\n",
      "49\n",
      "could not broadcast input array from shape (4,512,173) into shape (4,173,173)\n",
      "50\n",
      "could not broadcast input array from shape (4,512,173) into shape (4,173,173)\n",
      "51\n",
      "could not broadcast input array from shape (4,512,173) into shape (4,173,173)\n",
      "52\n",
      "could not broadcast input array from shape (4,512,173) into shape (4,173,173)\n",
      "53\n",
      "could not broadcast input array from shape (4,512,173) into shape (4,173,173)\n",
      "54\n",
      "could not broadcast input array from shape (4,512,173) into shape (4,173,173)\n",
      "55\n",
      "could not broadcast input array from shape (4,512,173) into shape (4,173,173)\n",
      "56\n",
      "could not broadcast input array from shape (4,512,173) into shape (4,173,173)\n",
      "57\n",
      "could not broadcast input array from shape (4,512,173) into shape (4,173,173)\n",
      "58\n",
      "could not broadcast input array from shape (4,512,173) into shape (4,173,173)\n",
      "59\n",
      "could not broadcast input array from shape (4,512,173) into shape (4,173,173)\n",
      "60\n",
      "could not broadcast input array from shape (4,512,173) into shape (4,173,173)\n",
      "61\n",
      "could not broadcast input array from shape (4,512,173) into shape (4,173,173)\n",
      "62\n",
      "could not broadcast input array from shape (4,512,173) into shape (4,173,173)\n",
      "63\n",
      "could not broadcast input array from shape (4,512,173) into shape (4,173,173)\n",
      "64\n",
      "could not broadcast input array from shape (4,512,173) into shape (4,173,173)\n",
      "65\n",
      "could not broadcast input array from shape (4,512,173) into shape (4,173,173)\n",
      "66\n",
      "could not broadcast input array from shape (4,512,173) into shape (4,173,173)\n",
      "67\n",
      "could not broadcast input array from shape (4,512,173) into shape (4,173,173)\n",
      "68\n",
      "could not broadcast input array from shape (4,512,173) into shape (4,173,173)\n",
      "69\n",
      "could not broadcast input array from shape (4,512,173) into shape (4,173,173)\n",
      "70\n",
      "could not broadcast input array from shape (4,512,173) into shape (4,173,173)\n",
      "71\n",
      "could not broadcast input array from shape (4,512,173) into shape (4,173,173)\n",
      "72\n",
      "could not broadcast input array from shape (4,512,173) into shape (4,173,173)\n",
      "73\n",
      "could not broadcast input array from shape (4,512,173) into shape (4,173,173)\n",
      "74\n",
      "could not broadcast input array from shape (4,512,173) into shape (4,173,173)\n",
      "75\n",
      "could not broadcast input array from shape (4,512,173) into shape (4,173,173)\n",
      "76\n",
      "could not broadcast input array from shape (4,512,173) into shape (4,173,173)\n",
      "77\n",
      "could not broadcast input array from shape (4,512,173) into shape (4,173,173)\n",
      "78\n",
      "could not broadcast input array from shape (4,512,173) into shape (4,173,173)\n",
      "79\n",
      "could not broadcast input array from shape (4,512,173) into shape (4,173,173)\n",
      "80\n",
      "could not broadcast input array from shape (4,512,173) into shape (4,173,173)\n",
      "81\n",
      "could not broadcast input array from shape (4,512,173) into shape (4,173,173)\n",
      "82\n",
      "could not broadcast input array from shape (4,512,173) into shape (4,173,173)\n",
      "83\n",
      "could not broadcast input array from shape (4,512,173) into shape (4,173,173)\n",
      "84\n",
      "could not broadcast input array from shape (4,512,173) into shape (4,173,173)\n",
      "85\n",
      "could not broadcast input array from shape (4,512,173) into shape (4,173,173)\n",
      "86\n",
      "could not broadcast input array from shape (4,512,173) into shape (4,173,173)\n",
      "87\n",
      "could not broadcast input array from shape (4,512,173) into shape (4,173,173)\n",
      "88\n",
      "could not broadcast input array from shape (4,512,173) into shape (4,173,173)\n",
      "89\n",
      "could not broadcast input array from shape (4,512,173) into shape (4,173,173)\n",
      "90\n",
      "could not broadcast input array from shape (4,512,173) into shape (4,173,173)\n",
      "91\n",
      "could not broadcast input array from shape (4,512,173) into shape (4,173,173)\n",
      "92\n",
      "could not broadcast input array from shape (4,512,173) into shape (4,173,173)\n",
      "93\n",
      "could not broadcast input array from shape (4,512,173) into shape (4,173,173)\n"
     ]
    }
   ],
   "source": [
    "%%timeit\n",
    "with rasterio.open(\"/Users/mzvyagin/Documents/GISProject/nucleus_data/Ephemeral_Channels/Imagery/vhr_2012_refl.img\") as src:\n",
    "    print(src.count)\n",
    "    print(src.width)\n",
    "    print(src.height)\n",
    "    image = np.empty((src.count, src.width, src.height),dtype=\"float32\")\n",
    "    i = 0\n",
    "    for ji, window in src.block_windows():\n",
    "        r = src.read(window=window)\n",
    "        #print(window)\n",
    "        #print(r.shape)\n",
    "        #print(image[:, window.col_off:window.col_off+r.shape[1], window.row_off:window.row_off+r.shape[2]].index)\n",
    "        try:\n",
    "            image[:, window.col_off:window.col_off+r.shape[1], window.row_off:window.row_off+r.shape[2]] = r\n",
    "        except Exception as e:\n",
    "            i += 1\n",
    "            print(i)\n",
    "            print(e)\n",
    "            pass"
   ]
  },
  {
   "cell_type": "code",
   "execution_count": null,
   "metadata": {},
   "outputs": [],
   "source": []
  }
 ],
 "metadata": {
  "kernelspec": {
   "display_name": "Python 3",
   "language": "python",
   "name": "python3"
  },
  "language_info": {
   "codemirror_mode": {
    "name": "ipython",
    "version": 3
   },
   "file_extension": ".py",
   "mimetype": "text/x-python",
   "name": "python",
   "nbconvert_exporter": "python",
   "pygments_lexer": "ipython3",
   "version": "3.8.5"
  }
 },
 "nbformat": 4,
 "nbformat_minor": 4
}
