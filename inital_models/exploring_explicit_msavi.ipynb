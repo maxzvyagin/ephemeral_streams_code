{
 "cells": [
  {
   "cell_type": "markdown",
   "metadata": {},
   "source": [
    "### Exploration of Model Accuracy when Fed Single Channel Images of MSAVI Vegetation Index"
   ]
  },
  {
   "cell_type": "code",
   "execution_count": 1,
   "metadata": {},
   "outputs": [],
   "source": [
    "import preprocess\n",
    "import torch\n",
    "import torchvision\n",
    "import rasterio.features\n",
    "from torch.utils.data import DataLoader\n",
    "from torchvision import models\n",
    "from torchvision.models.segmentation.deeplabv3 import DeepLabHead\n",
    "from torch import nn\n",
    "import torch.optim as optim\n",
    "import copy\n",
    "from tqdm import tqdm\n",
    "import time\n",
    "from sklearn.metrics import roc_auc_score, f1_score\n",
    "import numpy as np\n",
    "\n",
    "import segmentation_models_pytorch as smp"
   ]
  },
  {
   "cell_type": "code",
   "execution_count": 2,
   "metadata": {},
   "outputs": [],
   "source": [
    "def createDeepLabv3(outputchannels=1):\n",
    "#     model = torchvision.models.resnet50(pretrained=False)\n",
    "#     print(model.conv1)\n",
    "#     # https://discuss.pytorch.org/t/how-to-transfer-the-pretrained-weights-for-a-standard-resnet50-to-a-4-channel/52252\n",
    "#     weight = model.conv1.weight.clone()\n",
    "#     model.conv1 = nn.Conv2d(4, 256, kernel_size=7, stride=2, padding=3, bias=False)\n",
    "#     with torch.no_grad():\n",
    "#         model.conv1.weight[:, :3] = weight\n",
    "#         model.conv1.weight[:, 3] = model.conv1.weight[:, 0]\n",
    "#     # Adding a sigmoid activation after last convolution because we want to output pria value between 0 and 1\n",
    "#     model.classifier = DeepLabHead(2048, outputchannels)\n",
    "    model = smp.Unet(classes=1, in_channels=1)\n",
    "    # set the model into training mode and return\n",
    "    model.train()\n",
    "    return model"
   ]
  },
  {
   "cell_type": "code",
   "execution_count": 3,
   "metadata": {},
   "outputs": [],
   "source": [
    "# now need to define training procedure\n",
    "def train_model(model, criterion, dataloader, optimizer, metrics, num_epochs=3):\n",
    "    since = time.time()\n",
    "    best_model_wts = copy.deepcopy(model.state_dict())\n",
    "    best_loss = 1e10\n",
    "    # Use GPU if available\n",
    "    device = torch.device(\"cuda:2\" if torch.cuda.is_available() else \"cpu\")\n",
    "    model.to(device)\n",
    "    # initialize log\n",
    "    fieldnames = ['epoch', 'Train_loss', 'Test_loss'] + \\\n",
    "        [f'Train_{m}' for m in metrics.keys()] + \\\n",
    "        [f'Test_{m}' for m in metrics.keys()]\n",
    "    \n",
    "    # Training\n",
    "    for epoch in range(1, num_epochs + 1):\n",
    "        print(\"Epoch {}/{}\".format(epoch, num_epochs))\n",
    "        print(\"-\"*10)\n",
    "        batchsummary = {a: [0] for a in fieldnames}\n",
    "        # Each epoch has training and validation\n",
    "        for phase in ['train', 'test']:\n",
    "            if phase == 'train':\n",
    "                model.train()\n",
    "            else:\n",
    "                model.eval()\n",
    "            # Begin iterating over data using batches\n",
    "            for sample in tqdm(iter(dataloader)):\n",
    "                inputs = sample['image'].to(device)\n",
    "                masks = sample['mask'].float().to(device)\n",
    "                inputs = inputs.unsqueeze(1)\n",
    "                masks = masks.unsqueeze(1)\n",
    "                print(inputs.size())\n",
    "                # zero parameter gradients\n",
    "                optimizer.zero_grad()\n",
    "                # track the history if we're in train\n",
    "                with torch.set_grad_enabled(phase=='train'):\n",
    "                    outputs = model(inputs)\n",
    "                    loss = criterion(outputs, masks)\n",
    "                    y_pred = outputs.data.cpu().numpy().ravel()\n",
    "                    y_true = masks.data.cpu().numpy().ravel()\n",
    "                    for name, metric in metrics.items():\n",
    "                        if name == 'f1_score':\n",
    "                            # use classification threshold of 0.1\n",
    "                            try:\n",
    "                                batchsummary[f'{phase}_{name}'].append(metric(y_true > 0, y_pred > 0.1))\n",
    "                            except:\n",
    "                                batchsummary[f'{phase}_{name}'] = [metric(y_true > 0, y_pred > 0.1)]\n",
    "                        else:\n",
    "                            try:\n",
    "                                batchsummary[f'{phase}_{name}'].append(metric(y_true.astype('uint8'),y_pred))\n",
    "                            except:\n",
    "                                batchsummary[f'{phase}_{name}']= [metric(y_true.astype('uint8'),y_pred)]\n",
    "                    \n",
    "                    if phase == 'train':\n",
    "                        loss.backward()\n",
    "                        optimizer.step()\n",
    "            batchsummary['epoch'] = epoch\n",
    "            epoch_loss = loss\n",
    "            batchsummary[f'{phase}_loss'] = epoch_loss.item()\n",
    "            print('{} Loss: {:.4f}'.format(phase, loss))\n",
    "            for field in fieldnames[3:]:\n",
    "                batchsummary[field] = np.mean(batchsummary[field])\n",
    "            print(batchsummary)\n",
    "            if phase == 'test' and loss < best_loss:\n",
    "                best_loss = loss\n",
    "                best_model_wts = copy.deepcopy(model.state_dict())\n",
    "    \n",
    "    time_elapsed = time.time() - since\n",
    "    print('Training completed in {:.0f}m {:.0f}s'.format(time_elapsed//60, time_elapsed%60))\n",
    "    print('Lowest Loss: {:4f}'.format(best_loss))\n",
    "    model.load_state_dict(best_model_wts)\n",
    "    return model"
   ]
  },
  {
   "cell_type": "code",
   "execution_count": 4,
   "metadata": {},
   "outputs": [],
   "source": [
    "model = createDeepLabv3()\n",
    "criterion = torch.nn.MSELoss(reduction=\"mean\")\n",
    "optimizer = optim.Adam(model.parameters(), lr=1e-4)\n",
    "metrics = {'f1_score':f1_score, 'auroc':roc_auc_score}"
   ]
  },
  {
   "cell_type": "code",
   "execution_count": 5,
   "metadata": {},
   "outputs": [],
   "source": [
    "twelve_img = \"/vol/ml/EphemeralStreamData/Ephemeral_Channels/Imagery/vhr_2012_refl.img\"\n",
    "twelve_shp = \"/vol/ml/EphemeralStreamData/Ephemeral_Channels/Reference/reference_2012_merge.shp\""
   ]
  },
  {
   "cell_type": "code",
   "execution_count": 6,
   "metadata": {},
   "outputs": [
    {
     "name": "stderr",
     "output_type": "stream",
     "text": [
      "/homes/mzvyagin/anaconda3/envs/gis/lib/python3.7/site-packages/pyproj/crs/crs.py:53: FutureWarning: '+init=<authority>:<code>' syntax is deprecated. '<authority>:<code>' is the preferred initialization method. When making the change, be mindful of axis order changes: https://pyproj4.github.io/pyproj/stable/gotchas.html#axis-order-changes-in-proj-6\n",
      "  return _prepare_from_string(\" \".join(pjargs))\n"
     ]
    }
   ],
   "source": [
    "ds = preprocess.MSAVIDataset([(twelve_img, twelve_shp)])"
   ]
  },
  {
   "cell_type": "code",
   "execution_count": null,
   "metadata": {},
   "outputs": [],
   "source": [
    "ds[1000]['image'].size()"
   ]
  },
  {
   "cell_type": "code",
   "execution_count": null,
   "metadata": {},
   "outputs": [],
   "source": [
    "dl = DataLoader(ds, batch_size=50)"
   ]
  },
  {
   "cell_type": "code",
   "execution_count": null,
   "metadata": {},
   "outputs": [],
   "source": [
    "trained_model = train_model(model, criterion, dl, optimizer, metrics)"
   ]
  },
  {
   "cell_type": "code",
   "execution_count": null,
   "metadata": {},
   "outputs": [],
   "source": []
  }
 ],
 "metadata": {
  "kernelspec": {
   "display_name": "Python 3",
   "language": "python",
   "name": "python3"
  },
  "language_info": {
   "codemirror_mode": {
    "name": "ipython",
    "version": 3
   },
   "file_extension": ".py",
   "mimetype": "text/x-python",
   "name": "python",
   "nbconvert_exporter": "python",
   "pygments_lexer": "ipython3",
   "version": "3.7.7"
  }
 },
 "nbformat": 4,
 "nbformat_minor": 4
}
