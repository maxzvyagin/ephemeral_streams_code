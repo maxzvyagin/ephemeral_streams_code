{
 "cells": [
  {
   "cell_type": "markdown",
   "metadata": {},
   "source": [
    "# Model Results Visualization\n",
    "This notebook is intended to pull model artifacts from the Neptune experiment logger and run it on a few samples from the dataset to see visualize how the different model's are segmenting the data. "
   ]
  },
  {
   "cell_type": "code",
   "execution_count": 42,
   "metadata": {},
   "outputs": [],
   "source": [
    "from neptune import Session\n",
    "import pickle\n",
    "from rasterio.plot import show\n",
    "import pytorch_lightning as pl\n",
    "import torch\n",
    "import torchvision\n",
    "import zipfile\n",
    "from matplotlib import pyplot\n",
    "from IPython.core.interactiveshell import InteractiveShell\n",
    "InteractiveShell.ast_node_interactivity = \"all\""
   ]
  },
  {
   "cell_type": "code",
   "execution_count": 72,
   "metadata": {},
   "outputs": [],
   "source": [
    "image_types = ['full_channel', 'rgb', 'ir', 'hsv', 'hsv_with_ir', 'veg_index']"
   ]
  },
  {
   "cell_type": "code",
   "execution_count": 73,
   "metadata": {},
   "outputs": [],
   "source": [
    "f = open(\"image_samples.pkl\", \"rb\")\n",
    "image_samples = pickle.load(f)"
   ]
  },
  {
   "cell_type": "code",
   "execution_count": 19,
   "metadata": {},
   "outputs": [],
   "source": [
    "# create session and import my project\n",
    "sesh = Session.with_default_backend(api_token=\"eyJhcGlfYWRkcmVzcyI6Imh0dHBzOi8vdWkubmVwdHVuZS5haSIsImFwaV91cmwiOiJodHRwczovL3VpLm5\"\n",
    "                                \"lcHR1bmUuYWkiLCJhcGlfa2V5IjoiOGE5NDI0YTktNmE2ZC00ZWZjLTlkMjAtNjNmMTIwM2Q2ZTQzIn0=\")\n",
    "project = sesh.get_project(\"maxzvyagin/GIS\")"
   ]
  },
  {
   "cell_type": "code",
   "execution_count": 20,
   "metadata": {},
   "outputs": [],
   "source": [
    "experiments = project.get_experiments()"
   ]
  },
  {
   "cell_type": "code",
   "execution_count": 21,
   "metadata": {},
   "outputs": [
    {
     "data": {
      "text/plain": [
       "[Experiment(GIS-132),\n",
       " Experiment(GIS-133),\n",
       " Experiment(GIS-134),\n",
       " Experiment(GIS-135)]"
      ]
     },
     "execution_count": 21,
     "metadata": {},
     "output_type": "execute_result"
    }
   ],
   "source": [
    "experiments"
   ]
  },
  {
   "cell_type": "code",
   "execution_count": 75,
   "metadata": {},
   "outputs": [
    {
     "name": "stderr",
     "output_type": "stream",
     "text": [
      "Using cache found in /Users/mzvyagin/.cache/torch/hub/mateuszbuda_brain-segmentation-pytorch_master\n"
     ]
    },
    {
     "data": {
      "text/plain": [
       "<All keys matched successfully>"
      ]
     },
     "execution_count": 75,
     "metadata": {},
     "output_type": "execute_result"
    },
    {
     "name": "stdout",
     "output_type": "stream",
     "text": [
      "3\n",
      "{'image': tensor([[[0.1570, 0.1542, 0.1504,  ..., 0.1514, 0.1514, 0.1514],\n",
      "         [0.1570, 0.1542, 0.1514,  ..., 0.1514, 0.1514, 0.1523],\n",
      "         [0.1588, 0.1560, 0.1532,  ..., 0.1514, 0.1514, 0.1523],\n",
      "         ...,\n",
      "         [0.1709, 0.1718, 0.1718,  ..., 0.1514, 0.1532, 0.1551],\n",
      "         [0.1681, 0.1690, 0.1690,  ..., 0.1514, 0.1532, 0.1560],\n",
      "         [0.1644, 0.1653, 0.1662,  ..., 0.1504, 0.1532, 0.1551]],\n",
      "\n",
      "        [[0.2069, 0.2043, 0.2003,  ..., 0.2003, 0.2003, 0.2003],\n",
      "         [0.2083, 0.2043, 0.2003,  ..., 0.2016, 0.2016, 0.2003],\n",
      "         [0.2096, 0.2056, 0.2003,  ..., 0.2016, 0.2016, 0.2003],\n",
      "         ...,\n",
      "         [0.2216, 0.2230, 0.2230,  ..., 0.1963, 0.2003, 0.2043],\n",
      "         [0.2163, 0.2189, 0.2203,  ..., 0.1963, 0.2016, 0.2043],\n",
      "         [0.2136, 0.2149, 0.2176,  ..., 0.1949, 0.1989, 0.2029]],\n",
      "\n",
      "        [[0.2537, 0.2501, 0.2465,  ..., 0.2519, 0.2519, 0.2537],\n",
      "         [0.2555, 0.2501, 0.2447,  ..., 0.2537, 0.2537, 0.2555],\n",
      "         [0.2573, 0.2519, 0.2447,  ..., 0.2537, 0.2537, 0.2573],\n",
      "         ...,\n",
      "         [0.2773, 0.2809, 0.2809,  ..., 0.2374, 0.2428, 0.2483],\n",
      "         [0.2700, 0.2736, 0.2755,  ..., 0.2374, 0.2447, 0.2483],\n",
      "         [0.2664, 0.2682, 0.2700,  ..., 0.2356, 0.2410, 0.2465]],\n",
      "\n",
      "        [[0.3463, 0.3555, 0.3555,  ..., 0.3279, 0.3256, 0.3233],\n",
      "         [0.3417, 0.3463, 0.3509,  ..., 0.3302, 0.3256, 0.3233],\n",
      "         [0.3417, 0.3440, 0.3440,  ..., 0.3302, 0.3279, 0.3233],\n",
      "         ...,\n",
      "         [0.3417, 0.3417, 0.3417,  ..., 0.3142, 0.3211, 0.3233],\n",
      "         [0.3371, 0.3394, 0.3394,  ..., 0.3165, 0.3188, 0.3211],\n",
      "         [0.3348, 0.3371, 0.3371,  ..., 0.3165, 0.3211, 0.3211]]]), 'mask': tensor([[1., 1., 1.,  ..., 0., 0., 0.],\n",
      "        [1., 1., 1.,  ..., 0., 0., 0.],\n",
      "        [1., 1., 1.,  ..., 0., 0., 0.],\n",
      "        ...,\n",
      "        [0., 0., 0.,  ..., 1., 1., 1.],\n",
      "        [0., 0., 0.,  ..., 1., 1., 1.],\n",
      "        [0., 0., 0.,  ..., 1., 1., 1.]])}\n"
     ]
    },
    {
     "data": {
      "image/png": "[encoded data removed]",
      "text/plain": [
       "<Figure size 432x288 with 1 Axes>"
      ]
     },
     "metadata": {
      "needs_background": "light"
     },
     "output_type": "display_data"
    },
    {
     "data": {
      "text/plain": [
       "<AxesSubplot:title={'center':'Ground Truth'}>"
      ]
     },
     "execution_count": 75,
     "metadata": {},
     "output_type": "execute_result"
    },
    {
     "data": {
      "image/png": "[encoded data removed]",
      "text/plain": [
       "<Figure size 432x288 with 1 Axes>"
      ]
     },
     "metadata": {
      "needs_background": "light"
     },
     "output_type": "display_data"
    },
    {
     "data": {
      "text/plain": [
       "<AxesSubplot:title={'center':'Model Prediction'}>"
      ]
     },
     "execution_count": 75,
     "metadata": {},
     "output_type": "execute_result"
    },
    {
     "name": "stdout",
     "output_type": "stream",
     "text": [
      "3\n",
      "[2000]\n"
     ]
    },
    {
     "ename": "TypeError",
     "evalue": "list indices must be integers or slices, not str",
     "output_type": "error",
     "traceback": [
      "\u001b[0;31m---------------------------------------------------------------------------\u001b[0m",
      "\u001b[0;31mTypeError\u001b[0m                                 Traceback (most recent call last)",
      "\u001b[0;32m<ipython-input-75-47f86f9bcc5b>\u001b[0m in \u001b[0;36m<module>\u001b[0;34m\u001b[0m\n\u001b[1;32m     42\u001b[0m         \u001b[0;31m#fig, (m_axis, i_axis) = pyplot.subplots(1, 2, figsize=(15, 15))\u001b[0m\u001b[0;34m\u001b[0m\u001b[0;34m\u001b[0m\u001b[0;34m\u001b[0m\u001b[0m\n\u001b[1;32m     43\u001b[0m         \u001b[0mprint\u001b[0m\u001b[0;34m(\u001b[0m\u001b[0mtest\u001b[0m\u001b[0;34m)\u001b[0m\u001b[0;34m\u001b[0m\u001b[0;34m\u001b[0m\u001b[0m\n\u001b[0;32m---> 44\u001b[0;31m         \u001b[0mres\u001b[0m \u001b[0;34m=\u001b[0m \u001b[0mmodel\u001b[0m\u001b[0;34m(\u001b[0m\u001b[0mtest\u001b[0m\u001b[0;34m[\u001b[0m\u001b[0;34m'image'\u001b[0m\u001b[0;34m]\u001b[0m\u001b[0;34m.\u001b[0m\u001b[0munsqueeze\u001b[0m\u001b[0;34m(\u001b[0m\u001b[0;36m0\u001b[0m\u001b[0;34m)\u001b[0m\u001b[0;34m)\u001b[0m\u001b[0;34m\u001b[0m\u001b[0;34m\u001b[0m\u001b[0m\n\u001b[0m\u001b[1;32m     45\u001b[0m         \u001b[0mres\u001b[0m \u001b[0;34m=\u001b[0m \u001b[0mres\u001b[0m\u001b[0;34m.\u001b[0m\u001b[0mdetach\u001b[0m\u001b[0;34m(\u001b[0m\u001b[0;34m)\u001b[0m\u001b[0;34m.\u001b[0m\u001b[0mnumpy\u001b[0m\u001b[0;34m(\u001b[0m\u001b[0;34m)\u001b[0m\u001b[0;34m.\u001b[0m\u001b[0mastype\u001b[0m\u001b[0;34m(\u001b[0m\u001b[0mint\u001b[0m\u001b[0;34m)\u001b[0m\u001b[0;34m\u001b[0m\u001b[0;34m\u001b[0m\u001b[0m\n\u001b[1;32m     46\u001b[0m         \u001b[0mshow\u001b[0m\u001b[0;34m(\u001b[0m\u001b[0mtest\u001b[0m\u001b[0;34m[\u001b[0m\u001b[0;34m'mask'\u001b[0m\u001b[0;34m]\u001b[0m\u001b[0;34m,\u001b[0m \u001b[0mtitle\u001b[0m\u001b[0;34m=\u001b[0m\u001b[0;34m\"Ground Truth\"\u001b[0m\u001b[0;34m)\u001b[0m\u001b[0;34m\u001b[0m\u001b[0;34m\u001b[0m\u001b[0m\n",
      "\u001b[0;31mTypeError\u001b[0m: list indices must be integers or slices, not str"
     ]
    }
   ],
   "source": [
    "for e in experiments:\n",
    "    # load in the model\n",
    "    e.download_artifacts()\n",
    "    with zipfile.ZipFile('output.zip') as zip_ref:\n",
    "        zip_ref.extractall()\n",
    "    f = open('output/latest_model.pkl', 'rb')\n",
    "    device = torch.device('cpu')\n",
    "    old_params = torch.load(f, map_location=device)\n",
    "    params = dict()\n",
    "    i_type = e.get_parameters()['image_type']\n",
    "    if i_type == \"full_channel\":\n",
    "        input_num = 4\n",
    "    elif i_type == \"rgb\":\n",
    "        input_num = 3\n",
    "    elif i_type == \"ir\":\n",
    "        input_num = 1\n",
    "    elif i_type == \"hsv\":\n",
    "        input_num = 3\n",
    "    elif i_type == \"hsv_with_ir\":\n",
    "        input_num = 4\n",
    "    elif i_type == \"veg_index\":\n",
    "        input_num = 1\n",
    "    else:\n",
    "        i_type = 4\n",
    "    model =  torch.hub.load('mateuszbuda/brain-segmentation-pytorch', 'unet', in_channels=input_num,\n",
    "                                    out_channels=1,\n",
    "                                    init_features=32, pretrained=False)\n",
    "    # fix the weird state dict key error\n",
    "    for k in old_params.keys():\n",
    "        new_key = k.split(\"model.\")[1]\n",
    "        params[new_key] = old_params[k]\n",
    "    model.load_state_dict(params)\n",
    "    f.close()\n",
    "    # check the image type, and get image samples for corresponding image type\n",
    "    \n",
    "    # run the model on each of the samples and show results\n",
    "    # print experiment id, name, image type, and training/test loss\n",
    "    #print(e.get_properties(), e.get_numeric_channels_values())\n",
    "    # show mask, and then show the results from each \n",
    "    for test in image_samples[i_type]:\n",
    "        print(len(image_samples[i_type]))\n",
    "        #fig, (m_axis, i_axis) = pyplot.subplots(1, 2, figsize=(15, 15))\n",
    "        res = model(test['image'].unsqueeze(0))\n",
    "        res = res.detach().numpy().astype(int)\n",
    "        show(test['mask'], title=\"Ground Truth\")\n",
    "        show(res, title=\"Model Prediction\")\n",
    "    break"
   ]
  },
  {
   "cell_type": "code",
   "execution_count": null,
   "metadata": {},
   "outputs": [],
   "source": []
  }
 ],
 "metadata": {
  "kernelspec": {
   "display_name": "Python 3",
   "language": "python",
   "name": "python3"
  },
  "language_info": {
   "codemirror_mode": {
    "name": "ipython",
    "version": 3
   },
   "file_extension": ".py",
   "mimetype": "text/x-python",
   "name": "python",
   "nbconvert_exporter": "python",
   "pygments_lexer": "ipython3",
   "version": "3.8.5"
  }
 },
 "nbformat": 4,
 "nbformat_minor": 4
}
