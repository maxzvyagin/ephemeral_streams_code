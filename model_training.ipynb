{
 "cells": [
  {
   "cell_type": "markdown",
   "metadata": {},
   "source": [
    "### Using the preprocess module, attempting to get training up and running using PyTorch"
   ]
  },
  {
   "cell_type": "code",
   "execution_count": 3,
   "metadata": {},
   "outputs": [],
   "source": [
    "import preprocess\n",
    "import torch\n",
    "import torchvision\n",
    "import rasterio.features\n",
    "from torch.utils.data import DataLoader\n",
    "from torchvision import models\n",
    "from torchvision.models.segmentation.deeplabv3 import DeepLabHead\n",
    "from torch import nn\n",
    "import torch.optim as optim\n",
    "import copy\n",
    "from tqdm import tqdm\n",
    "import time\n",
    "from sklearn.metrics import roc_auc_score, f1_score"
   ]
  },
  {
   "cell_type": "code",
   "execution_count": 4,
   "metadata": {},
   "outputs": [],
   "source": [
    "### just need to load up the model, setup the parameters, start iterating\n",
    "### source: https://expoundai.wordpress.com/2019/08/30/transfer-learning-for-segmentation-using-deeplabv3-in-pytorch/"
   ]
  },
  {
   "cell_type": "code",
   "execution_count": 7,
   "metadata": {},
   "outputs": [],
   "source": [
    "def createDeepLabv3(outputchannels=1):\n",
    "    kwargs = {}\n",
    "    model = torchvision.models.resnet101()\n",
    "    model.conv1 = nn.Conv3d(4, 512, 512)\n",
    "    # Adding a sigmoid activation after last convolution because we want to output pria value between 0 and 1\n",
    "    model.classifier = DeepLabHead(2048, outputchannels)\n",
    "    # set the model into training mode and return\n",
    "    model.train()\n",
    "    return model"
   ]
  },
  {
   "cell_type": "code",
   "execution_count": 8,
   "metadata": {},
   "outputs": [],
   "source": [
    "# now need to define training procedure\n",
    "def train_model(model, criterion, dataloader, optimizer, metrics, num_epochs=3):\n",
    "    since = time.time()\n",
    "    best_model_wts = copy.deepcopy(model.state_dict())\n",
    "    best_loss = 1e10\n",
    "    # Use GPU if available\n",
    "    device = torch.device(\"cuda:0\" if torch.cuda.is_available() else \"cpu\")\n",
    "    model.to(device)\n",
    "    # initialize log\n",
    "    fieldnames = ['epoch', 'Train_loss', 'Test_loss'] + \\\n",
    "        [f'Train_{m}' for m in metrics.keys()] + \\\n",
    "        [f'Test_{m}' for m in metrics.keys()]\n",
    "    \n",
    "    # Training\n",
    "    for epoch in range(1, num_epochs + 1):\n",
    "        print(\"Epoch {}/{}\".format(epoch, num_epochs))\n",
    "        print(\"-\"*10)\n",
    "        batchsummary = {a: [0] for a in fieldnames}\n",
    "        # Each epoch has training and validation\n",
    "        for phase in ['train', 'test']:\n",
    "            if phase == 'train':\n",
    "                model.train()\n",
    "            else:\n",
    "                model.eval()\n",
    "            # Begin iterating over data using batches\n",
    "            for sample in tqdm(iter(dataloader)):\n",
    "                inputs = sample['image'].to(device)\n",
    "                masks = sample['mask'].to(device)\n",
    "                # zero parameter gradients\n",
    "                optimizer.zero_grad()\n",
    "                # track the history if we're in train\n",
    "                with torch.set_grad_enabled(phase=='train'):\n",
    "                    outputs = model(inputs)\n",
    "                    loss = criterion(outputs['out'], masks)\n",
    "                    y_pred = outputs['out'].data.cpu().numpy().ravel()\n",
    "                    y_true = masks.data.cpu().numpy().ravel()\n",
    "                    for name, metric in metrics.items():\n",
    "                        if name == 'f1_score':\n",
    "                            # use classification threshold of 0.1\n",
    "                            batchsummary[f'{phase}_{name}'].append(metric(y_true > 0, y_pred > 0.1))\n",
    "                        else:\n",
    "                            batchsummary[f'{phase}_{name}'].append(metric(y_true.astype('uint8'),y_pred))\n",
    "                    \n",
    "                    if phase == 'train':\n",
    "                        loss.backward()\n",
    "                        optimizer.step()\n",
    "            batchsummary['epoch'] = epoch\n",
    "            epoch_loss = loss\n",
    "            batchsummary[f'{phase}_loss'] = epoch_loss.item()\n",
    "            print('{} Loss: {:.4f}'.format(phase, loss))\n",
    "            for field in fieldnames[3:]:\n",
    "                batchsummary[field] = np.mean(batchsummary[field])\n",
    "            print(batchsummary)\n",
    "            if phase == 'test' and loss < best_loss:\n",
    "                best_loss = loss\n",
    "                best_model_wts = copy.deepcopy(model.state_dict())\n",
    "    \n",
    "    time_elapsed = time.time() - since\n",
    "    print('Training completed in {:.0f}m {;.0f}s'.format(time_elapsed//60, time_elapsed%60))\n",
    "    print('Lowest Loss: {:4f}'.format(best_loss))\n",
    "    model.load_state_dict(best_model_wts)\n",
    "    return model\n",
    "            "
   ]
  },
  {
   "cell_type": "code",
   "execution_count": null,
   "metadata": {},
   "outputs": [],
   "source": [
    "model = createDeepLabv3()\n",
    "criterion = torch.nn.MSELoss(reduction=\"mean\")\n",
    "optimizer = optim.Adam(model.parameters(), lr=1e-4)\n",
    "metrics = {'f1_score':f1_score, 'auroc':roc_auc_score}\n",
    "twelve_img = \"/Users/mzvyagin/Documents/GISProject/nucleus_data/Ephemeral_Channels/Imagery/vhr_2012_refl.img\"\n",
    "twelve_shp = \"/Users/mzvyagin/Documents/GISProject/nucleus_data/Ephemeral_Channels/Reference/reference_2012_merge.shp\"\n",
    "dataloader = DataLoader(preprocess.GISDataset([(twelve_img, twelve_shp)]), batch_size = 10)"
   ]
  },
  {
   "cell_type": "code",
   "execution_count": null,
   "metadata": {},
   "outputs": [],
   "source": [
    "model.conv1.in_channels = 4\n",
    "train_model(model, criterion, dataloader, optimizer, metrics)"
   ]
  },
  {
   "cell_type": "code",
   "execution_count": null,
   "metadata": {},
   "outputs": [],
   "source": []
  },
  {
   "cell_type": "code",
   "execution_count": null,
   "metadata": {},
   "outputs": [],
   "source": []
  }
 ],
 "metadata": {
  "kernelspec": {
   "display_name": "Python 3",
   "language": "python",
   "name": "python3"
  },
  "language_info": {
   "codemirror_mode": {
    "name": "ipython",
    "version": 3
   },
   "file_extension": ".py",
   "mimetype": "text/x-python",
   "name": "python",
   "nbconvert_exporter": "python",
   "pygments_lexer": "ipython3",
   "version": "3.8.5"
  }
 },
 "nbformat": 4,
 "nbformat_minor": 4
}
