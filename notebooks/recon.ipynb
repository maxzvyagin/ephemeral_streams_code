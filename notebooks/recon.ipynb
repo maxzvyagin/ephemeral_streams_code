{
 "cells": [
  {
   "cell_type": "code",
   "execution_count": 1,
   "id": "2e9bb35a-8108-4aa8-9717-1db328c6beda",
   "metadata": {},
   "outputs": [],
   "source": [
    "from gis_preprocess import pt_gis_train_test_split\n",
    "import numpy as np\n",
    "from tqdm import tqdm\n",
    "import matplotlib.pyplot as plt\n",
    "import torch\n",
    "from tqdm import tqdm"
   ]
  },
  {
   "cell_type": "code",
   "execution_count": 2,
   "id": "47fa0421-c9dc-4d1e-9dd2-2c673e28ee2d",
   "metadata": {},
   "outputs": [],
   "source": [
    "# train, val, test = pt_gis_train_test_split(image_type=\"hsv_with_ir\")"
   ]
  },
  {
   "cell_type": "code",
   "execution_count": 3,
   "id": "bb16eebc-3c25-41ab-8f08-4daa9c085143",
   "metadata": {},
   "outputs": [
    {
     "name": "stdout",
     "output_type": "stream",
     "text": [
      "Processing file /scratch/mzvyagin/Ephemeral_Channels/Imagery/vhr_2014_refl.img....\n",
      "WARNING: Loaded from pickle object at /tmp/mzvyagin/gis_datafull_channelPTdataset.pkl...\n"
     ]
    }
   ],
   "source": [
    "train, val, test = pt_gis_train_test_split(image_type=\"full_channel\")"
   ]
  },
  {
   "cell_type": "code",
   "execution_count": null,
   "id": "9bdc13ff-86f7-42f6-ab33-db9f87cae377",
   "metadata": {},
   "outputs": [],
   "source": [
    "train[0][0].shape"
   ]
  },
  {
   "cell_type": "code",
   "execution_count": 4,
   "id": "b8f9b089-3167-44d4-8fec-c8c6533fed44",
   "metadata": {},
   "outputs": [
    {
     "name": "stderr",
     "output_type": "stream",
     "text": [
      "100%|███████████████████████████████████████████████████████████████████████| 211462/211462 [00:32<00:00, 6579.81it/s]\n",
      "100%|████████████████████████████████████████████████████████████████████████| 26433/26433 [00:02<00:00, 10724.83it/s]\n",
      "100%|████████████████████████████████████████████████████████████████████████| 26433/26433 [00:02<00:00, 10674.62it/s]\n"
     ]
    }
   ],
   "source": [
    "with_streams = []\n",
    "for dataset in [train, val, test]:\n",
    "    for i in tqdm(dataset):\n",
    "        if 1 in i[1]:\n",
    "            with_streams.append(i)"
   ]
  },
  {
   "cell_type": "code",
   "execution_count": 5,
   "id": "e53f63f1-c3f5-4fac-a129-0ed3db629587",
   "metadata": {},
   "outputs": [
    {
     "data": {
      "text/plain": [
       "0.05412215126660815"
      ]
     },
     "execution_count": 5,
     "metadata": {},
     "output_type": "execute_result"
    }
   ],
   "source": [
    "len(with_streams)/(len(train)+len(val)+len(test))"
   ]
  },
  {
   "cell_type": "code",
   "execution_count": null,
   "id": "5d85f6e2-aab6-4a04-a2c9-3193a2551804",
   "metadata": {},
   "outputs": [],
   "source": [
    "from rasterio.plot import show"
   ]
  },
  {
   "cell_type": "code",
   "execution_count": null,
   "id": "69d486f7-32d4-455b-bc41-21391a008a5e",
   "metadata": {},
   "outputs": [],
   "source": [
    "show(with_streams[0][0][3].float())"
   ]
  },
  {
   "cell_type": "code",
   "execution_count": null,
   "id": "2ed445d0-f0a7-43e8-b5c8-dc56a47ada5e",
   "metadata": {},
   "outputs": [],
   "source": [
    "plt.imshow(with_streams[0][0][1:4, :, :].swapaxes(0, 2).float())\n",
    "# plt.imshow(with_streams[0][0][3].float())"
   ]
  },
  {
   "cell_type": "code",
   "execution_count": null,
   "id": "1a2ce0e4-f043-47cc-86d4-a75132c542d7",
   "metadata": {},
   "outputs": [],
   "source": [
    "plt.imshow(torch.rot90(with_streams[0][1].float()))"
   ]
  },
  {
   "cell_type": "code",
   "execution_count": null,
   "id": "b80a2509-f06f-4d82-970f-a76595bb6975",
   "metadata": {},
   "outputs": [],
   "source": [
    "saved_sample = None\n",
    "for i in test:\n",
    "    if 1 in i[1]:\n",
    "        saved_sample = i\n",
    "        break"
   ]
  },
  {
   "cell_type": "code",
   "execution_count": null,
   "id": "da258343-f9fa-4584-972c-211424cfd702",
   "metadata": {},
   "outputs": [],
   "source": [
    "saved_sample"
   ]
  },
  {
   "cell_type": "code",
   "execution_count": null,
   "id": "d650d237-0726-4067-b711-8bff94bd6c3b",
   "metadata": {},
   "outputs": [],
   "source": [
    "plt.imshow(saved_sample[1].float())"
   ]
  },
  {
   "cell_type": "code",
   "execution_count": null,
   "id": "21124a86-a15f-45ee-b814-3885be54ead0",
   "metadata": {},
   "outputs": [],
   "source": [
    "len(train) + len(val) + len(test)"
   ]
  },
  {
   "cell_type": "code",
   "execution_count": null,
   "id": "14390430-3448-4f00-ab20-3322a0c3d55e",
   "metadata": {},
   "outputs": [],
   "source": [
    "len(train)"
   ]
  },
  {
   "cell_type": "code",
   "execution_count": null,
   "id": "300f8221-1dae-4490-ae38-cffc3a2d7b7a",
   "metadata": {},
   "outputs": [],
   "source": [
    "len(val)"
   ]
  },
  {
   "cell_type": "code",
   "execution_count": null,
   "id": "c277669c-032e-4418-b7b1-6fb78ba688c7",
   "metadata": {},
   "outputs": [],
   "source": [
    "len(test)"
   ]
  },
  {
   "cell_type": "code",
   "execution_count": null,
   "id": "2e1679f0-7853-4c03-baee-8ed2b8e62c26",
   "metadata": {},
   "outputs": [],
   "source": [
    "model = torch.load('/tmp/mzvyagin/ephemeral_streams_model.pkl')\n",
    "out = model.eval()"
   ]
  },
  {
   "cell_type": "code",
   "execution_count": null,
   "id": "f1cf23e9-22bb-41de-92a4-5abdac165026",
   "metadata": {},
   "outputs": [],
   "source": [
    "out = model(saved_sample[0].float().unsqueeze(0).cuda())\n",
    "out = torch.nn.Sigmoid()(out)\n",
    "out = np.rint(out.detach().cpu().squeeze().numpy())"
   ]
  },
  {
   "cell_type": "code",
   "execution_count": null,
   "id": "ab2436d5-f815-480e-ba0a-0eaac72c8421",
   "metadata": {},
   "outputs": [],
   "source": [
    "plt.imshow(out)"
   ]
  },
  {
   "cell_type": "code",
   "execution_count": null,
   "id": "dbe43ad2-db68-45c6-b623-c0f99ea62a1c",
   "metadata": {},
   "outputs": [],
   "source": [
    "def chunks(lst, n):\n",
    "    \"\"\"Yield successive n-sized chunks from lst.\"\"\"\n",
    "    for i in range(0, len(lst), n):\n",
    "        yield lst[i:i + n]"
   ]
  },
  {
   "cell_type": "code",
   "execution_count": null,
   "id": "414a72c0-f0b0-4c5f-809c-518902f454e8",
   "metadata": {},
   "outputs": [],
   "source": [
    "# generate 512\n",
    "windows = []\n",
    "for i in tqdm(list(chunks(train, 4))):\n",
    "    top = np.hstack([i[0], i[1]])\n",
    "    bottom = np.hstack([i[1], i[2]])\n",
    "    full = np.vstack([top, bottom])\n",
    "    windows.append(full)"
   ]
  },
  {
   "cell_type": "code",
   "execution_count": null,
   "id": "61921076-b3fd-4c00-a3e1-f565309cb7c8",
   "metadata": {},
   "outputs": [],
   "source": [
    "windows[0]"
   ]
  },
  {
   "cell_type": "code",
   "execution_count": null,
   "id": "a877b911-3470-4106-b5bc-da2f6ee95a3b",
   "metadata": {},
   "outputs": [],
   "source": []
  }
 ],
 "metadata": {
  "kernelspec": {
   "display_name": "Python 3 (ipykernel)",
   "language": "python",
   "name": "python3"
  },
  "language_info": {
   "codemirror_mode": {
    "name": "ipython",
    "version": 3
   },
   "file_extension": ".py",
   "mimetype": "text/x-python",
   "name": "python",
   "nbconvert_exporter": "python",
   "pygments_lexer": "ipython3",
   "version": "3.9.7"
  }
 },
 "nbformat": 4,
 "nbformat_minor": 5
}
