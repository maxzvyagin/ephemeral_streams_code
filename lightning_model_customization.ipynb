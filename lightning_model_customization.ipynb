{
 "cells": [
  {
   "cell_type": "code",
   "execution_count": 53,
   "metadata": {},
   "outputs": [],
   "source": [
    "import preprocess\n",
    "import pytorch_lightning as pl\n",
    "import torch\n",
    "import numpy as np\n",
    "from rasterio.plot import show\n",
    "from torch.utils.data import DataLoader\n",
    "from torch.nn import functional as F"
   ]
  },
  {
   "cell_type": "code",
   "execution_count": 54,
   "metadata": {},
   "outputs": [],
   "source": [
    "class LitUNet(pl.LightningModule):\n",
    "    \n",
    "    def __init__(self, file_pairs, input_num=4, output_num=1, initial_feat=32, trained=False):\n",
    "        super().__init__()\n",
    "        self.model = model = torch.hub.load('mateuszbuda/brain-segmentation-pytorch', 'unet', in_channels=input_num, out_channels=output_num,\n",
    "                                            init_features=initial_feat, pretrained=trained)\n",
    "        self.file_pairs = file_pairs\n",
    "        \n",
    "    def forward(self, x):\n",
    "        return self.model(x)\n",
    "    \n",
    "    def prepare_data(self):\n",
    "        all_data = preprocess.GISDataset(self.file_pairs)\n",
    "        # calculate the splits\n",
    "        total = len(all_data)\n",
    "        train = int(total*.7)\n",
    "        val = int(total*.15)\n",
    "        if train+(val*2) != total:\n",
    "            diff = total-train-(val*2)\n",
    "            train += diff\n",
    "        self.train_set, self.validate_set, self.test_set = torch.utils.data.random_split(all_data, [train, val, val])\n",
    "        \n",
    "    def train_dataloader(self):\n",
    "        return DataLoader(self.train_set, batch_size = 64)\n",
    "    \n",
    "    def val_dataloader(self):\n",
    "        return DataLoader(self.validate_set, batch_size=64)\n",
    "    \n",
    "    def test_dataloader(self):\n",
    "        return DataLoader(self.test_set, batch_size=64)\n",
    "    \n",
    "    def configure_optimizers(self):\n",
    "        optimizer=torch.optim.Adam(self.parameters(), lr=1e-3)\n",
    "        return optimizer\n",
    "    \n",
    "    def cross_entropy_loss(logits, labels):\n",
    "        return F.nll_loss(logits, labels)\n",
    "\n",
    "    def training_step(self, train_batch, batch_idx):\n",
    "        x, y = train_batch\n",
    "        logits = self.forward(x)\n",
    "        loss = self.cross_entropy_loss(logits, y)\n",
    "        \n",
    "        logs = {'train_loss':loss}\n",
    "        return {'loss':loss, 'log':logs}\n",
    "    \n",
    "    def test_step(self, batch, batch_idx):\n",
    "        x, y = batch\n",
    "        logits = self.forward(x)\n",
    "        loss = self.cross_entropy_loss(logits, y)\n",
    "        return {'test_loss':loss}\n",
    "    \n",
    "    def test_epoch_end(self, outputs):\n",
    "        avg_loss = torch.stack([x['test_loss'] for x in outputs]).mean()\n",
    "        tensorboard_logs = {'test_loss':avg_loss}\n",
    "        return {'avg_test_loss':avg_loss, 'log':tensorboard_logs}\n",
    "    \n",
    "    def validation_step(self, val_batch, batch_idx):\n",
    "        x, y = val_batch\n",
    "        logits = self.forward(x)\n",
    "        loss = self.cross_entropy_loss(logits, y)\n",
    "        return {'val_loss':loss}\n",
    "    \n",
    "    def validation_epoch_end(self, outputs):\n",
    "        # called at the end of the validation epoch\n",
    "        avg_loss = torch.stack([x['val_loss'] for x in outputs]).mean()\n",
    "        tensorboard_logs = {'val_loss':avg_loss}\n",
    "        return {'avg_val_loss':avg_loss, 'log':tensorboard_logs}\n",
    "        "
   ]
  },
  {
   "cell_type": "code",
   "execution_count": 55,
   "metadata": {},
   "outputs": [],
   "source": [
    "twelve_img = \"/vol/ml/EphemeralStreamData/Ephemeral_Channels/Imagery/vhr_2012_refl.img\"\n",
    "twelve_shp = \"/vol/ml/EphemeralStreamData/Ephemeral_Channels/Reference/reference_2012_merge.shp\""
   ]
  },
  {
   "cell_type": "code",
   "execution_count": 56,
   "metadata": {},
   "outputs": [
    {
     "name": "stderr",
     "output_type": "stream",
     "text": [
      "Using cache found in /homes/mzvyagin/.cache/torch/hub/mateuszbuda_brain-segmentation-pytorch_master\n"
     ]
    }
   ],
   "source": [
    "model = LitUNet([(twelve_img, twelve_shp)])"
   ]
  },
  {
   "cell_type": "code",
   "execution_count": 57,
   "metadata": {},
   "outputs": [
    {
     "name": "stderr",
     "output_type": "stream",
     "text": [
      "GPU available: True, used: True\n",
      "TPU available: False, using: 0 TPU cores\n",
      "CUDA_VISIBLE_DEVICES: [2,3]\n"
     ]
    }
   ],
   "source": [
    "trainer = pl.Trainer(gpus=[2])"
   ]
  },
  {
   "cell_type": "code",
   "execution_count": null,
   "metadata": {},
   "outputs": [
    {
     "name": "stderr",
     "output_type": "stream",
     "text": [
      "/homes/mzvyagin/anaconda3/envs/gis/lib/python3.7/site-packages/pyproj/crs/crs.py:53: FutureWarning: '+init=<authority>:<code>' syntax is deprecated. '<authority>:<code>' is the preferred initialization method. When making the change, be mindful of axis order changes: https://pyproj4.github.io/pyproj/stable/gotchas.html#axis-order-changes-in-proj-6\n",
      "  return _prepare_from_string(\" \".join(pjargs))\n"
     ]
    }
   ],
   "source": [
    "trainer.fit(model)"
   ]
  },
  {
   "cell_type": "code",
   "execution_count": null,
   "metadata": {},
   "outputs": [],
   "source": []
  }
 ],
 "metadata": {
  "kernelspec": {
   "display_name": "Python 3",
   "language": "python",
   "name": "python3"
  },
  "language_info": {
   "codemirror_mode": {
    "name": "ipython",
    "version": 3
   },
   "file_extension": ".py",
   "mimetype": "text/x-python",
   "name": "python",
   "nbconvert_exporter": "python",
   "pygments_lexer": "ipython3",
   "version": "3.7.7"
  }
 },
 "nbformat": 4,
 "nbformat_minor": 4
}
